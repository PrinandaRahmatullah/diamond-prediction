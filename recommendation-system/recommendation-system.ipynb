{
 "cells": [
  {
   "cell_type": "markdown",
   "metadata": {},
   "source": [
    "# Recommendation System"
   ]
  },
  {
   "cell_type": "markdown",
   "metadata": {},
   "source": [
    "## Download and Extract Data"
   ]
  },
  {
   "cell_type": "code",
   "execution_count": null,
   "metadata": {},
   "outputs": [],
   "source": [
    "# !wget \"https://archive.ics.uci.edu/ml/machine-learning-databases/00232/RCdata.zip\" -P \"data/\"\n",
    "# !unzip \"data/RCdata.zip\" -d \"data/RCdata\""
   ]
  },
  {
   "cell_type": "markdown",
   "metadata": {},
   "source": [
    "## Load Data"
   ]
  },
  {
   "cell_type": "code",
   "execution_count": 7,
   "metadata": {},
   "outputs": [
    {
     "name": "stdout",
     "output_type": "stream",
     "text": [
      "Jumlah data pembayaran yang diterima restoran:  615\n",
      "Jumlah data masakan pada restoran:  769\n",
      "Jumlah data waktu buka restoran:  694\n",
      "Jumlah data lokasi restoran:  130\n",
      "Jumlah data masakan pengguna:  138\n",
      "Jumlah data profil pengguna:  138\n",
      "Jumlah data penilaian yang diberikan pengguna:  138\n",
      "Jumlah data penilaian restoran:  130\n"
     ]
    }
   ],
   "source": [
    "import pandas as pd\n",
    " \n",
    "accepts = pd.read_csv('data/RCdata/chefmozaccepts.csv')\n",
    "cuisine = pd.read_csv('data/RCdata/chefmozcuisine.csv')\n",
    "hours = pd.read_csv('data/RCdata/chefmozhours4.csv')\n",
    "parking = pd.read_csv('data/RCdata/chefmozparking.csv')\n",
    "geo = pd.read_csv('data/RCdata/geoplaces2.csv', encoding = \"ISO-8859-1\")\n",
    "usercuisine = pd.read_csv('data/RCdata/usercuisine.csv')\n",
    "payment = pd.read_csv('data/RCdata/userpayment.csv')\n",
    "profile = pd.read_csv('data/RCdata/userprofile.csv')\n",
    "rating = pd.read_csv('data/RCdata/rating_final.csv')\n",
    " \n",
    "print('Jumlah data pembayaran yang diterima restoran: ', len(accepts.placeID.unique()))\n",
    "print('Jumlah data masakan pada restoran: ', len(cuisine.placeID.unique()))\n",
    "print('Jumlah data waktu buka restoran: ', len(hours.placeID.unique()))\n",
    "print('Jumlah data lokasi restoran: ', len(geo.placeID.unique()))\n",
    "print('Jumlah data masakan pengguna: ', len(usercuisine.userID.unique()))\n",
    "print('Jumlah data profil pengguna: ', len(profile.userID.unique()))\n",
    "print('Jumlah data penilaian yang diberikan pengguna: ', len(rating.userID.unique()))\n",
    "print('Jumlah data penilaian restoran: ', len(rating.placeID.unique()))"
   ]
  },
  {
   "cell_type": "markdown",
   "metadata": {},
   "source": [
    "## Univariate Exploratory Data Analysis"
   ]
  },
  {
   "cell_type": "code",
   "execution_count": 11,
   "metadata": {},
   "outputs": [
    {
     "name": "stdout",
     "output_type": "stream",
     "text": [
      "i: 1\tk1: -0.1, k2: -0.1, x0: 0.1, y: 0.95\n",
      "i: 2\tk1: -0.095, k2: -0.09475, x0: 0.2, y: 0.9025833333333333\n",
      "i: 3\tk1: -0.08974166666666668, k2: -0.08922875000000002, x0: 0.30000000000000004, y: 0.8578834722222222\n",
      "i: 4\tk1: -0.08421165277777778, k2: -0.08342223541666667, x0: 0.4, y: 0.8160407849537037\n",
      "i: 5\tk1: -0.07839592150462962, k2: -0.07731571757986111, x0: 0.5, y: 0.7772028921763117\n",
      "y(x) = 0.7772028921763117\n"
     ]
    }
   ],
   "source": [
    "# Python3 program to implement Runge\n",
    "# Kutta method\n",
    "import pandas as pd\n",
    "\n",
    "# A sample differential equation\n",
    "# \"dy/dx = (x - y)/2\"\n",
    "def dydx(x, y) :\n",
    " \n",
    "    return (x + y - 2);\n",
    " \n",
    "# Finds value of y for a given x\n",
    "# using step size h\n",
    "# and initial value y0 at x0.\n",
    "I = []\n",
    "K1 = []\n",
    "K2 = []\n",
    "X0 = []\n",
    "Y = []\n",
    "\n",
    "def rungeKutta(x0, y0, x, h) :\n",
    " \n",
    "    # Count number of iterations\n",
    "    # using step size or\n",
    "    # step height h\n",
    "    n = round((x - x0) / h);\n",
    "     \n",
    "        # Iterate for number of iterations\n",
    "    y = y0;\n",
    "     \n",
    "    for i in range(1, n + 1) :\n",
    "         \n",
    "                # Apply Runge Kutta Formulas\n",
    "        # to find next value of y\n",
    "        k1 = h * dydx(x0, y);\n",
    "        k2 = h * dydx(x0 + 0.5 * h, y + 0.5 * k1);\n",
    " \n",
    "        # Update next value of y\n",
    "        y = y + (1.0 / 6.0) * (k1 + 2 * k2);\n",
    " \n",
    "        # Update next value of x\n",
    "        x0 = x0 + h;\n",
    "        \n",
    "        print(f\"i: {i}\\tk1: {k1}, k2: {k2}, x0: {x0}, y: {y}\")\n",
    " \n",
    "    return y;\n",
    " \n",
    "# Driver Code\n",
    "if __name__ == \"__main__\" :\n",
    " \n",
    "    x0 = 0; y = 1;\n",
    "    x = 0.5; h = 0.1;\n",
    " \n",
    "    print(\"y(x) =\",rungeKutta(x0, y, x, h));\n"
   ]
  },
  {
   "cell_type": "code",
   "execution_count": null,
   "metadata": {},
   "outputs": [],
   "source": []
  }
 ],
 "metadata": {
  "kernelspec": {
   "display_name": "Python 3.8.10 ('ml')",
   "language": "python",
   "name": "python3"
  },
  "language_info": {
   "codemirror_mode": {
    "name": "ipython",
    "version": 3
   },
   "file_extension": ".py",
   "mimetype": "text/x-python",
   "name": "python",
   "nbconvert_exporter": "python",
   "pygments_lexer": "ipython3",
   "version": "3.8.10"
  },
  "orig_nbformat": 4,
  "vscode": {
   "interpreter": {
    "hash": "a90a6b41a184c82b81f92a70ac57839a68e4f2dc45bda3c00abc3a4f6b2b4010"
   }
  }
 },
 "nbformat": 4,
 "nbformat_minor": 2
}
